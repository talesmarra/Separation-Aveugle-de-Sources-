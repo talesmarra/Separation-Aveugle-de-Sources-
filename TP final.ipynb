{
 "cells": [
  {
   "cell_type": "markdown",
   "metadata": {},
   "source": [
    "<div id=\\\"image\\\">\n",
    "<img src=https://www.imt-atlantique.fr/sites/default/files/logo_mt_0_0.png  WIDTH=280 HEIGHT=280>\n",
    "</div>\n",
    "<div id=\\\"subject\\\">\n",
    "<CENTER>\n",
    "</br>\n",
    "<font size=\\\"3\\\"></br> <h1>Séparation aveugle de sources</h1></font></br></div>\n",
    "</CENTER>\n",
    "<CENTER>\n",
    "<span style=\\\"color:black\\\">Tales Marra - tales.marra@imt-atlantique.net</span>\n",
    "<CENTER>\n",
    "<span style=\\\"color:black\\\">Gustavo Rodrigues - gustavo.rodrigues-dos-reis@imt-atlantique.net</span>\n",
    "<CENTER>\n",
    "</CENTER>\n",
    "</div>"
   ]
  },
  {
   "cell_type": "markdown",
   "metadata": {},
   "source": [
    "## Question 1"
   ]
  },
  {
   "cell_type": "markdown",
   "metadata": {},
   "source": [
    "Deux variables aléatoires sont dites décorrelés si:\n",
    "\n",
    "\\begin{equation} Cov (X,Y) = 0 \\end{equation}\n",
    "\n",
    "Deux variables aléatoires sont indépendants si et seulement si:\n",
    "\n",
    "\\begin{equation} P(X<x \\cap Y<y) = P(X<x)P(Y<y)\\end{equation}\n",
    "\n",
    "L'indépendance implique,donc, la décorrelation."
   ]
  },
  {
   "cell_type": "markdown",
   "metadata": {},
   "source": [
    "## Question 2"
   ]
  },
  {
   "cell_type": "markdown",
   "metadata": {},
   "source": [
    "Afin d'avoir le bon résultat, il suffit de multiplier la matrice $W$ à gauche de l'équation:\n",
    "\n",
    "\\begin{equation} x = As \\end{equation}\n",
    "\\begin{equation} Wx = WAs \\end{equation}\n",
    "\n",
    "Mais comment on sait que:\n",
    "\n",
    "\\begin{equation} WA = I \\end{equation} \n",
    "\n",
    "Avec $I$ la matrice identité d'ordre $n$,\n",
    "\n",
    "\\begin{equation} Wx = s \\end{equation}"
   ]
  },
  {
   "cell_type": "markdown",
   "metadata": {},
   "source": [
    "## Question 3"
   ]
  },
  {
   "cell_type": "markdown",
   "metadata": {},
   "source": [
    "Si $m$<$n$, on ne pourrait pas retrouver une matrice inverse à $A$, et donc, avec ACI (_Analyse en Composants Indépendants_), ce serait impossible de réconstruire les signaux originaux."
   ]
  },
  {
   "cell_type": "markdown",
   "metadata": {},
   "source": [
    "## Question 4"
   ]
  },
  {
   "cell_type": "markdown",
   "metadata": {},
   "source": [
    "\\begin{equation} E\\{{s_i}\\} = \\int_{-\\infty}^{\\infty} xf_i dx\\end{equation}  \n",
    "\n",
    "$f_i$ étant la densité de probabilité de chaque $s_i$.\n",
    "\n",
    "Comme $f_i$ n'est pas nulle que entre $-\\sqrt3$ et $-\\sqrt3$, l'équation ci-dessus devient:\n",
    "\n",
    "\\begin{equation}E\\{{s_i}\\} = \\int_{-\\sqrt3}^{\\sqrt3} \\frac{1}{2\\sqrt{3}} x dx = 0\\end{equation}\n",
    "\n",
    "Maintenaint il faut calculer $E\\{s_i^{2}\\}$.\n",
    "\n",
    "\\begin{equation}E\\{s_i^{2}\\} = \\int_{-\\infty}^{\\infty} x^{2}f_i \\end{equation}\n",
    "\n",
    "Qui à sa fois devient:\n",
    "\n",
    "\\begin{equation}E\\{{s_i}\\} = \\int_{-\\sqrt3}^{\\sqrt3} \\frac{1}{2\\sqrt{3}} x^{2} dx = 1\\end{equation}\n",
    "\n",
    "Comme:\n",
    "\n",
    "\\begin{equation}\\sigma^{2}\\{s_i\\} = E\\{x_i^{2}\\} - E\\{x_i\\}^{2}\\end{equation}\n",
    "\n",
    "\\begin{equation}\\sigma^{2}\\{s_i\\} = 1 \\end{equation}"
   ]
  },
  {
   "cell_type": "markdown",
   "metadata": {},
   "source": [
    "## Question 5"
   ]
  },
  {
   "cell_type": "markdown",
   "metadata": {},
   "source": [
    "Comme $s1$ et $s2$ sont indépendants,\n",
    "\n",
    "\\begin{equation} f(s1,s2) = f_{s1}f_{s2}\\end{equation}\n",
    "\n",
    "\\begin{equation} f(s1,s2) = \\frac{1}{12}\\ , |{x}| \\leq \\sqrt3 \\end{equation}\n",
    "\\begin{equation} f(s1,s2) = 0 , sinon\\end{equation}"
   ]
  },
  {
   "cell_type": "markdown",
   "metadata": {},
   "source": [
    "## Question 6"
   ]
  },
  {
   "cell_type": "markdown",
   "metadata": {},
   "source": [
    "Non, les nouveaux signaux obtenus ne sont plus indépendants."
   ]
  },
  {
   "cell_type": "code",
   "execution_count": 4,
   "metadata": {},
   "outputs": [],
   "source": [
    "import numpy as np\n",
    "import random\n",
    "import math\n",
    "import sounddevice "
   ]
  },
  {
   "cell_type": "code",
   "execution_count": 2,
   "metadata": {},
   "outputs": [],
   "source": [
    "def generate_process_X():\n",
    "    proba_s1 = list()\n",
    "    proba_s2 = list()\n",
    "    for i in range (0,1000):\n",
    "        s1 =  np.random.uniform()\n",
    "        s2 =  np.random.uniform()\n",
    "        if s1>= -np.sqrt(3) and s1<= np.sqrt(3):\n",
    "            s1 = s1+np.sqrt(3)\n",
    "            proba_s1.append((s1,(1/(2*np.sqrt(3)))*(s1)))\n",
    "        else:\n",
    "            proba_s1.append((s1,0.0))\n",
    "        if s2>= -np.sqrt(3) and s2<= np.sqrt(3):\n",
    "            s2 = s2+np.sqrt(3)\n",
    "            proba_s2.append((s2,(1/(2*np.sqrt(3)))*(s2)))\n",
    "        else:\n",
    "            proba_s2.append((s2,0.0))\n",
    "    return proba_s1,proba_s2\n"
   ]
  },
  {
   "cell_type": "code",
   "execution_count": 3,
   "metadata": {},
   "outputs": [],
   "source": [
    "realizations_s1,realizations_s2 = generate_process_X()"
   ]
  },
  {
   "cell_type": "code",
   "execution_count": 4,
   "metadata": {},
   "outputs": [
    {
     "data": {
      "text/plain": [
       "<Figure size 640x480 with 1 Axes>"
      ]
     },
     "metadata": {},
     "output_type": "display_data"
    }
   ],
   "source": [
    "s1_s2_realizations = list()\n",
    "import matplotlib.pyplot as plt\n",
    "plt.figure()\n",
    "plt.title('realizations s1 et s2')\n",
    "for i,element in enumerate(realizations_s1):\n",
    "    proba_s1 = element[1]\n",
    "    proba_s2 = realizations_s2[i][1]\n",
    "    s1_s2_realizations.append ((proba_s1,proba_s2))\n",
    "\n",
    "plt.scatter([i[0] for i in s1_s2_realizations],[i[1] for i in s1_s2_realizations])\n",
    "plt.xlabel('s1')\n",
    "plt.ylabel('s2')\n",
    "plt.show()"
   ]
  },
  {
   "cell_type": "code",
   "execution_count": 5,
   "metadata": {},
   "outputs": [],
   "source": [
    "A = np.array((1,1,-1,2))"
   ]
  },
  {
   "cell_type": "code",
   "execution_count": 6,
   "metadata": {},
   "outputs": [],
   "source": [
    "A = A.reshape(2,-1)"
   ]
  },
  {
   "cell_type": "code",
   "execution_count": 7,
   "metadata": {},
   "outputs": [],
   "source": [
    "s1 = [i[0] for i in s1_s2_realizations]\n",
    "s2 = [i[1] for i in s1_s2_realizations]\n",
    "s_matrix = np.array([s1,s2])\n",
    "x_matrix = np.dot(A,s_matrix)"
   ]
  },
  {
   "cell_type": "code",
   "execution_count": 8,
   "metadata": {},
   "outputs": [],
   "source": [
    "x1,x2 = x_matrix[0,:],x_matrix[1,:]"
   ]
  },
  {
   "cell_type": "code",
   "execution_count": 9,
   "metadata": {},
   "outputs": [
    {
     "data": {
      "image/png": "[encoded data removed]",
      "text/plain": [
       "<Figure size 432x288 with 1 Axes>"
      ]
     },
     "metadata": {
      "needs_background": "light"
     },
     "output_type": "display_data"
    }
   ],
   "source": [
    "plt.figure()\n",
    "plt.title('realizations x1 et x2')\n",
    "plt.xlabel('x1')\n",
    "plt.ylabel('x2')\n",
    "plt.scatter(x1,x2)\n",
    "plt.show()"
   ]
  },
  {
   "cell_type": "markdown",
   "metadata": {},
   "source": [
    "## Question 7"
   ]
  },
  {
   "cell_type": "code",
   "execution_count": 10,
   "metadata": {},
   "outputs": [],
   "source": [
    "A_est = np.array((0.3,0.3,-0.3,0.6))\n",
    "A_est = A.reshape(2,-1)\n",
    "\n",
    "W = np.linalg.inv(A_est)\n",
    "s_matrix_reconstructed = np.dot(W,x_matrix)"
   ]
  },
  {
   "cell_type": "code",
   "execution_count": 11,
   "metadata": {},
   "outputs": [
    {
     "data": {
      "image/png": "[encoded data removed]",
      "text/plain": [
       "<Figure size 432x288 with 1 Axes>"
      ]
     },
     "metadata": {
      "needs_background": "light"
     },
     "output_type": "display_data"
    }
   ],
   "source": [
    "z1,z2 = s_matrix_reconstructed[0,:],s_matrix_reconstructed[1,:]\n",
    "plt.figure()\n",
    "plt.title('reconstructed s1 and s2')\n",
    "plt.xlabel('s1')\n",
    "plt.ylabel('s2')\n",
    "plt.scatter(z1,z2)\n",
    "plt.show()"
   ]
  },
  {
   "cell_type": "markdown",
   "metadata": {},
   "source": [
    "la limitation de cette techinque "
   ]
  },
  {
   "cell_type": "markdown",
   "metadata": {},
   "source": [
    "## Question 8"
   ]
  },
  {
   "cell_type": "markdown",
   "metadata": {},
   "source": [
    "Pour le Cas Gaussian:"
   ]
  },
  {
   "cell_type": "code",
   "execution_count": 12,
   "metadata": {},
   "outputs": [
    {
     "data": {
      "image/png": "[encoded data removed]",
      "text/plain": [
       "<Figure size 432x288 with 1 Axes>"
      ]
     },
     "metadata": {
      "needs_background": "light"
     },
     "output_type": "display_data"
    }
   ],
   "source": [
    "import numpy as np\n",
    "import random\n",
    "import math\n",
    "import scipy.stats\n",
    "import matplotlib.pyplot as plt\n",
    "\n",
    "s1_g = np.random.normal(0,1,10000)\n",
    "s2_g = np.random.normal(0,1,10000)\n",
    "\n",
    "plt.figure()\n",
    "plt.title('réalisations S1 et S2')\n",
    "plt.scatter(s1_g,s2_g)\n",
    "\n",
    "A_g = np.array((1,1,-1,2))\n",
    "\n",
    "A_g = A_g.reshape(2,-1)\n",
    "\n",
    "s_matrix_g = np.array([s1_g,s2_g])\n",
    "x_matrix_g = np.dot(A,s_matrix_g)"
   ]
  },
  {
   "cell_type": "code",
   "execution_count": 13,
   "metadata": {},
   "outputs": [
    {
     "data": {
      "image/png": "[encoded data removed]",
      "text/plain": [
       "<Figure size 432x288 with 1 Axes>"
      ]
     },
     "metadata": {
      "needs_background": "light"
     },
     "output_type": "display_data"
    }
   ],
   "source": [
    "x1_g,x2_g = x_matrix_g[0,:],x_matrix_g[1,:]\n",
    "plt.figure()\n",
    "plt.title('realizations x1 et x2 cas gaussien')\n",
    "plt.xlabel('x1')\n",
    "plt.ylabel('x2')\n",
    "plt.scatter(x1_g,x2_g)\n",
    "plt.show()"
   ]
  },
  {
   "cell_type": "markdown",
   "metadata": {},
   "source": [
    "Conclusion: Non, c'est ne pas possible lorsque l'estimation des coefficients de la matrice A commence à devenir copmpliqué."
   ]
  },
  {
   "cell_type": "markdown",
   "metadata": {},
   "source": [
    "## Question 9"
   ]
  },
  {
   "cell_type": "markdown",
   "metadata": {},
   "source": [
    "\\begin{equation}X = s_1 + s_2 \\end{equation}\n",
    "\n",
    "\\begin{equation}f_X(x) = \\int_{-\\infty}^{\\infty} f_{s1}(x-u)f_{s2}(u) du \\end{equation}\n",
    "\n",
    "Dans le cas où $-\\sqrt{3} \\leq x \\leq 0$:\n",
    "\n",
    "\\begin{equation}f_X(x) = \\int_{-\\sqrt{3}}^{x} \\frac{1}{2\\sqrt{3}}\\frac{1}{2\\sqrt{3}} du \\end{equation}\n",
    "\n",
    "\n",
    "\\begin{equation}f_X(x) = (\\frac{1}{2\\sqrt{3}})^{2} (x + \\sqrt{3}) \\end{equation}\n",
    "\n",
    "Dans le cas où $0 < x \\leq \\sqrt{3}$:\n",
    "\n",
    "\\begin{equation}f_X(x) = \\int_{x}^{\\sqrt{3}} \\frac{1}{2\\sqrt{3}}\\frac{1}{2\\sqrt{3}} du \\end{equation}\n",
    "\n",
    "\\begin{equation}f_X(x) = (\\frac{1}{2\\sqrt{3}})^{2} (-x + \\sqrt{3}) \\end{equation}\n",
    "\n",
    "Lorsqu'on considere:\n",
    "\n",
    "\\begin{equation}Z = s_1 + s_2 +s_3 = X + s_3\\end{equation}\n",
    "\n",
    "\\begin{equation}f_Z(x) = \\int_{-\\infty}^{\\infty} f_{X}(x-u)f_{s3}(u) du \\end{equation}\n",
    "\n",
    "Dans le cas où $-\\sqrt{3} \\leq x \\leq 0$:\n",
    "\n",
    "\\begin{equation}f_Z(x) = \\int_{-\\sqrt{3}}^{x} \\frac{1}{(2\\sqrt{3})^{2}}\\frac{1}{2\\sqrt{3}}(u+\\sqrt{3}) du \\end{equation}\n",
    "\n",
    "\\begin{equation}f_Z(x) = (\\frac{1}{2\\sqrt{3}})^{3} (\\frac{x^{2}}{2} + \\sqrt{3}x + \\frac{3}{2}) \\end{equation}\n",
    "\n",
    "Dans le cas où $0 < x \\leq \\sqrt{3}$:\n",
    "\n",
    "\\begin{equation}f_Z(x) = \\int_{x}^{\\sqrt{3}} \\frac{1}{(2\\sqrt{3})^{2}}\\frac{1}{2\\sqrt{3}}(\\sqrt{3}-u) du \\end{equation}\n",
    "\n",
    "\\begin{equation}f_Z(x) = (\\frac{1}{2\\sqrt{3}})^{3} (\\frac{x^{2}}{2} - \\sqrt{3}x + \\frac{3}{2}) \\end{equation}\n",
    "\n",
    "Si on regarde graphiquement le comportement de  $f_X$ et $f_Z$, on voit que lorsqu'on commence a adicioner plus des signaux, la distribution conjointe de probabilité tombe vers une gaussiene."
   ]
  },
  {
   "cell_type": "markdown",
   "metadata": {},
   "source": [
    "## Question 10"
   ]
  },
  {
   "cell_type": "markdown",
   "metadata": {},
   "source": [
    "Soit $x$ variable gaussienne centrée.\n",
    "\n",
    "Afin de calculer le kurtosis de x comme défini à l'énnonce, il faut calculer d'abord $E\\{x^{4}\\}$.\n",
    "\n",
    "Pour une distribution gaussienne centrée et de variance unitaire,\n",
    "\n",
    "\\begin{equation}f(x) = \\frac{1}{\\sqrt{2\\pi}}\\int_{-\\infty}^{\\infty} e^{{\\frac{-x^{2}}{2}}}dx \\end{equation}\n",
    "\n",
    "\\begin{equation}E\\{x^{4}\\} = \\frac{1}{\\sqrt{2\\pi}}\\int_{-\\infty}^{\\infty} x^{4} f(x) dx \\end{equation}\n",
    "\n",
    "\\begin{equation}E\\{x^{4}\\} = \\frac{1}{\\sqrt{2\\pi}}\\int_{-\\infty}^{\\infty} x^{4} e^{{\\frac{-x^{2}}{2}}} dx \\end{equation}\n",
    "\n",
    "Si on définit $y = x^{2}$,\n",
    "\n",
    "\\begin{equation}dy = 2x dx, dx = \\frac{dy}{2x} \\end{equation}\n",
    "\n",
    "et,donc:\n",
    "\n",
    "\\begin{equation} E\\{x^{4}\\} = \\frac{2}{\\sqrt{2\\pi}}\\int_{0}^{\\infty} \\frac{y^{2}}{2\\sqrt{y}} e^{\\frac{-y}{2}} dy \\end{equation}\n",
    "\n",
    "\\begin{equation} E\\{x^{4}\\} = \\frac{2}{\\sqrt{2\\pi}}\\int_{0}^{\\infty} y^\\frac{3}{2}e^{\\frac{-y}{2}} dy \\end{equation}\n",
    "\n",
    "Comme:\n",
    "\n",
    "\\begin{equation}\\int x^{n}e^{ax} dx  = \\frac{x^{n}e^{ax}}{a} - \\frac{n}{a}\\int x^{n-1}e^{ax} dx \\end{equation}\n",
    "\n",
    "En dévellopant les calculs, on arrive à:\n",
    "\n",
    "\\begin{equation} E\\{x^{4}\\} = 3 \\end{equation}\n",
    "\n",
    "Puis on passe au calcul du deuxième terme, $-3(E\\{x^{2}\\})^{2}$:\n",
    "\n",
    "Comme x est centrée, $E\\{x\\} = 0$. Comme $\\sigma^{2}\\{x\\} = 1$:\n",
    "\n",
    "\\begin{equation}kurt(x) = 0\\end{equation}\n",
    "\n",
    "\n"
   ]
  },
  {
   "cell_type": "markdown",
   "metadata": {},
   "source": [
    "## Question 11"
   ]
  },
  {
   "cell_type": "markdown",
   "metadata": {},
   "source": [
    "On doit montrer que $E\\{\\widetilde{x}\\widetilde{x}^{T}\\} = I_n$ .\n",
    "\n",
    "\\begin{equation} \\widetilde{x} = ED^{\\frac{-1}{2}}E^{T}x \\end{equation}\n",
    "\n",
    "\\begin{equation} \\widetilde{x}^{T} = x^{T}E(D^{\\frac{-1}{2}})^{T}E^{T} \\end{equation}\n",
    "\n",
    "\\begin{equation} \\widetilde{x}\\widetilde{x}^{T} = ED^{\\frac{-1}{2}}E^{T}xx^{T}E(D^{\\frac{-1}{2}})^{T}E^{T} \\end{equation}\n",
    "\n",
    "Comme les matrices sont ortogonales,\n",
    "\n",
    "\\begin{equation} {x}{x}^{T} = {x}{x}^{-1} = I_n, {E}{E}^{T} = I_n \\end{equation}\n",
    "\n",
    "\n",
    "\\begin{equation} {x}{x}^{T} = I_n, {E}{E}^{T} = I_n, D^{\\frac{-1}{2}}(D^{\\frac{-1}{2}})^{T} = I_n\\end{equation}\n",
    "\n",
    "On déduit que \\begin{equation}E\\{\\widetilde{x}\\widetilde{x}^{T}\\} = I_n\\end{equation}\n"
   ]
  },
  {
   "cell_type": "markdown",
   "metadata": {},
   "source": [
    "## Question 12"
   ]
  },
  {
   "cell_type": "markdown",
   "metadata": {},
   "source": [
    "\\begin{equation} G(y) = log (cosh(y))\\end{equation}\n",
    "\n",
    "\\begin{equation} g(.) = G^{'}(y) = senh(y)\\frac{1}{cosh(y)} = tanh(y)\\end{equation}\n",
    "\n",
    "\\begin{equation} g^{'}(.) = \\frac{senh^{2}(y)-cosh^2(y)}{cosh^{2}(y)} = \\frac{1}{cosh^{2}(y)} = sech^{2}(y)\\end{equation}\n",
    "\n",
    "Donc, \n",
    "\n",
    "\\begin{equation} g^{'}(.) = sech^{2}(y) \\end{equation}\n",
    "\n"
   ]
  },
  {
   "cell_type": "markdown",
   "metadata": {},
   "source": [
    "## Question 13"
   ]
  },
  {
   "cell_type": "code",
   "execution_count": 6,
   "metadata": {},
   "outputs": [],
   "source": [
    "i1 = np.fromfile('./Input_and_Reference_files/In_1.txt',dtype=np.float64)\n",
    "i2 = np.fromfile('./Input_and_Reference_files/In_2.txt',dtype=np.float64)"
   ]
  },
  {
   "cell_type": "markdown",
   "metadata": {},
   "source": [
    "Blanchement:"
   ]
  },
  {
   "cell_type": "code",
   "execution_count": 7,
   "metadata": {},
   "outputs": [],
   "source": [
    "x = np.vstack((i1,i2))"
   ]
  },
  {
   "cell_type": "code",
   "execution_count": 8,
   "metadata": {},
   "outputs": [],
   "source": [
    "x_t = np.transpose(x)"
   ]
  },
  {
   "cell_type": "code",
   "execution_count": 9,
   "metadata": {},
   "outputs": [],
   "source": [
    "product = np.matmul(x,x_t)"
   ]
  },
  {
   "cell_type": "code",
   "execution_count": 10,
   "metadata": {},
   "outputs": [
    {
     "data": {
      "text/plain": [
       "(2, 2)"
      ]
     },
     "execution_count": 10,
     "metadata": {},
     "output_type": "execute_result"
    }
   ],
   "source": [
    "product.shape"
   ]
  },
  {
   "cell_type": "code",
   "execution_count": 11,
   "metadata": {},
   "outputs": [],
   "source": [
    "product = product/220500"
   ]
  },
  {
   "cell_type": "code",
   "execution_count": 12,
   "metadata": {},
   "outputs": [],
   "source": [
    "E,D,E_t =np.linalg.svd(product)"
   ]
  },
  {
   "cell_type": "code",
   "execution_count": 13,
   "metadata": {},
   "outputs": [],
   "source": [
    "D = np.array([1/0.05334122,0,0,1/0.02828295]).reshape(-1,2)"
   ]
  },
  {
   "cell_type": "code",
   "execution_count": 14,
   "metadata": {},
   "outputs": [],
   "source": [
    "D = np.sqrt(D)"
   ]
  },
  {
   "cell_type": "code",
   "execution_count": 15,
   "metadata": {},
   "outputs": [],
   "source": [
    "x_til = np.matmul(E,D)\n",
    "x_til = np.matmul(x_til,E_t)\n",
    "x_til = np.matmul(x_til,x)"
   ]
  },
  {
   "cell_type": "markdown",
   "metadata": {},
   "source": [
    "Algorithme:"
   ]
  },
  {
   "cell_type": "code",
   "execution_count": 16,
   "metadata": {},
   "outputs": [
    {
     "name": "stdout",
     "output_type": "stream",
     "text": [
      "[[0.58982072]\n",
      " [0.80753422]]\n"
     ]
    }
   ],
   "source": [
    "\n",
    "#Générer un vector w aléatoire [2,1]\n",
    "\n",
    "w = np.random.rand(2,1)\n",
    "w_t = np.transpose(w)\n",
    "global_w=0\n",
    "for n in range(100):\n",
    "    w_t = np.transpose(w)\n",
    "\n",
    "    \n",
    "    #Multiplier w_T pour x (après le blanchiment)\n",
    "    product1 = np.matmul(w_t,x_til)\n",
    "    \n",
    "    #Appliquer la fonction tanh element-wise dans le résultat\n",
    "    product1 = np.tanh(product1)\n",
    "    \n",
    "    #Construire une matrice qui repete le resultat antérieur dans ses 2 lignes\n",
    "    prod_new1 = np.tile(product1,2)\n",
    "    prod_new1 = prod_new1.reshape(2,-1)\n",
    "    \n",
    "    #Multiplier le résultat à gauche pour x blanchit\n",
    "    result1 =np.multiply(x_til,prod_new1)\n",
    "    \n",
    "    #L'espérance est la moyenne empirique\n",
    "    terme1= np.reshape(np.mean(result1,axis=1),(2,1))\n",
    "    \n",
    "    #Pour le deuxième terme:\n",
    "    \n",
    "    #Multiplier x blanchit par w_T à gauche\n",
    "    product2 = np.matmul(w_t,x_til)\n",
    "    \n",
    "    #Appliquer la fonction sech² element-wise dans le résultat\n",
    "    product2 = np.power(np.cosh(product2), -2)\n",
    "    \n",
    "    #L'espérance est la moyenne empirique\n",
    "    product2 = np.mean(product2,axis=1)\n",
    "    \n",
    "    #Multiplier le résultat par w à droite\n",
    "    terme2 = product2*w\n",
    "    \n",
    "    #La différence entre les deux termes est calculée\n",
    "    w_plus = terme1 - terme2\n",
    "    \n",
    "    #Normalisation de w\n",
    "    w_plus = w_plus/np.linalg.norm(w_plus,2)\n",
    "    \n",
    "    #w reçoit la nouvelle valeur\n",
    "    w = w_plus\n",
    "    global_w = w\n",
    "print(global_w)"
   ]
  },
  {
   "cell_type": "code",
   "execution_count": 17,
   "metadata": {},
   "outputs": [],
   "source": [
    "s1 = np.fromfile('./Input_and_Reference_files/Ref_1.txt',dtype=np.float64)\n",
    "s2 = np.fromfile('./Input_and_Reference_files/Ref_2.txt',dtype=np.float64)"
   ]
  },
  {
   "cell_type": "code",
   "execution_count": 18,
   "metadata": {},
   "outputs": [],
   "source": [
    "s_chap = np.dot(global_w.T,x_til)\n",
    "prod = 1 - np.square(np.dot(s_chap,s1)/(np.linalg.norm(s1,2)*np.linalg.norm(s_chap,2)))\n",
    "EQMN = 10*math.log10(prod.item())"
   ]
  },
  {
   "cell_type": "code",
   "execution_count": 19,
   "metadata": {},
   "outputs": [
    {
     "name": "stdout",
     "output_type": "stream",
     "text": [
      "EQMN en db: -57.15649796827768\n"
     ]
    }
   ],
   "source": [
    "print('EQMN en db:', EQMN)"
   ]
  },
  {
   "cell_type": "markdown",
   "metadata": {},
   "source": [
    "Cherchant la deuxième composant indépendate:"
   ]
  },
  {
   "cell_type": "code",
   "execution_count": 20,
   "metadata": {},
   "outputs": [],
   "source": [
    "w1 = global_w\n",
    "w2 = np.random.rand(2,1)\n",
    "while np.dot(w2.T,w1)>0.000001:\n",
    "    w2 = w2 - np.matmul(w2.T,w1)*w1\n",
    "    w2 = w2/np.linalg.norm(w2,2)"
   ]
  },
  {
   "cell_type": "code",
   "execution_count": 22,
   "metadata": {},
   "outputs": [],
   "source": [
    "w_matrix = np.vstack((w1,w2)).reshape(2,2)"
   ]
  },
  {
   "cell_type": "code",
   "execution_count": 23,
   "metadata": {},
   "outputs": [],
   "source": [
    "s1 = np.fromfile('./Input_and_Reference_files/Ref_1.txt',dtype=np.float64)\n",
    "s2 = np.fromfile('./Input_and_Reference_files/Ref_2.txt',dtype=np.float64)"
   ]
  },
  {
   "cell_type": "code",
   "execution_count": 24,
   "metadata": {},
   "outputs": [],
   "source": [
    "s_matrix = np.vstack((s1,s2))"
   ]
  },
  {
   "cell_type": "code",
   "execution_count": 25,
   "metadata": {},
   "outputs": [],
   "source": [
    "s_chap = np.dot(w_matrix.T,x_til)\n",
    "prod1 = 1 - np.square(np.dot(s_matrix[0,:].T,s_chap[0,:])/(np.linalg.norm(s_matrix[0,:],2)*np.linalg.norm(s_chap[0,:],2)))\n",
    "prod2 = 1 - np.square(np.dot(s_matrix[1,:].T,s_chap[1,:])/(np.linalg.norm(s_matrix[1,:],2)*np.linalg.norm(s_chap[1,:],2)))\n",
    "EQMN1 = 10*math.log10(prod1.item())\n",
    "EQMN2 = 10*math.log10(prod2.item())"
   ]
  },
  {
   "cell_type": "markdown",
   "metadata": {},
   "source": [
    "EQMN for the reconstruction:"
   ]
  },
  {
   "cell_type": "code",
   "execution_count": 48,
   "metadata": {},
   "outputs": [
    {
     "name": "stdout",
     "output_type": "stream",
     "text": [
      "-57.1564979662735 db -57.15667994161004 db\n"
     ]
    }
   ],
   "source": [
    "print(EQMN1,'db',EQMN2,'db')"
   ]
  },
  {
   "cell_type": "code",
   "execution_count": 27,
   "metadata": {},
   "outputs": [],
   "source": [
    "fs = 44100"
   ]
  },
  {
   "cell_type": "markdown",
   "metadata": {},
   "source": [
    "Playing original signals:"
   ]
  },
  {
   "cell_type": "code",
   "execution_count": 8,
   "metadata": {},
   "outputs": [],
   "source": [
    "sounddevice.play(s1, fs)"
   ]
  },
  {
   "cell_type": "code",
   "execution_count": 9,
   "metadata": {},
   "outputs": [],
   "source": [
    "sounddevice.play(s2, fs)"
   ]
  },
  {
   "cell_type": "markdown",
   "metadata": {},
   "source": [
    "Playing input files:"
   ]
  },
  {
   "cell_type": "code",
   "execution_count": 12,
   "metadata": {},
   "outputs": [],
   "source": [
    "sounddevice.play(i1, fs)"
   ]
  },
  {
   "cell_type": "code",
   "execution_count": 13,
   "metadata": {},
   "outputs": [],
   "source": [
    "sounddevice.play(i2, fs)"
   ]
  },
  {
   "cell_type": "markdown",
   "metadata": {},
   "source": [
    "Playing reconstructed signals:"
   ]
  },
  {
   "cell_type": "code",
   "execution_count": 28,
   "metadata": {},
   "outputs": [],
   "source": [
    "sounddevice.play(s_chap[0,:], fs)"
   ]
  },
  {
   "cell_type": "code",
   "execution_count": 29,
   "metadata": {},
   "outputs": [],
   "source": [
    "sounddevice.play(s_chap[1,:], fs)"
   ]
  },
  {
   "cell_type": "markdown",
   "metadata": {},
   "source": [
    "## Question 15"
   ]
  },
  {
   "cell_type": "code",
   "execution_count": 30,
   "metadata": {},
   "outputs": [],
   "source": [
    "def matrice_corr(v1,v2,window_size):\n",
    "    R = np.zeros((window_size,window_size))\n",
    "    size = int(v1.shape[0]/window_size)\n",
    "    for i in range(size):\n",
    "        begin = i*window_size\n",
    "        s1 = v1[begin:begin+window_size]\n",
    "        s2 = v2[begin:begin+window_size]\n",
    "        R += np.outer(s1,s2)\n",
    "    R /= size\n",
    "    return R"
   ]
  },
  {
   "cell_type": "code",
   "execution_count": 31,
   "metadata": {},
   "outputs": [],
   "source": [
    "i1 = np.fromfile('./Input_and_Reference_files/In_1.txt',dtype=np.float64)\n",
    "i2 = np.fromfile('./Input_and_Reference_files/In_2.txt',dtype=np.float64)"
   ]
  },
  {
   "cell_type": "code",
   "execution_count": 32,
   "metadata": {},
   "outputs": [],
   "source": [
    "R_x1_x1 = matrice_corr(i1,i1,10)"
   ]
  },
  {
   "cell_type": "code",
   "execution_count": 33,
   "metadata": {},
   "outputs": [],
   "source": [
    "R_x1_x2 = matrice_corr(i1,i2,10)"
   ]
  },
  {
   "cell_type": "code",
   "execution_count": 34,
   "metadata": {},
   "outputs": [],
   "source": [
    "R_x2_x2 = matrice_corr(i2,i2,10)"
   ]
  },
  {
   "cell_type": "code",
   "execution_count": 35,
   "metadata": {},
   "outputs": [],
   "source": [
    "T1 = np.trace(R_x1_x1)\n",
    "T2 = np.trace(R_x2_x2)\n",
    "T12 = np.trace(R_x1_x2)"
   ]
  },
  {
   "cell_type": "code",
   "execution_count": 36,
   "metadata": {},
   "outputs": [],
   "source": [
    "def off(M):\n",
    "    N = M.shape[0]\n",
    "    total_sum = np.sum(M)\n",
    "    off = total_sum - np.trace(M)\n",
    "    return off/ (N*(N-1))"
   ]
  },
  {
   "cell_type": "code",
   "execution_count": 37,
   "metadata": {},
   "outputs": [],
   "source": [
    "F1 = off(R_x1_x1)\n",
    "F2 = off(R_x2_x2)\n",
    "F12 = off(R_x1_x2)"
   ]
  },
  {
   "cell_type": "code",
   "execution_count": 38,
   "metadata": {},
   "outputs": [],
   "source": [
    "alpha = 2*F12*T12 -(F1*T2 + F2*T1)\n",
    "beta = 2*(T12**2 - T1*T2)\n",
    "gamma_2 =(F1*T2 - F2*T1)**2 + 4*(F12*T2 - T12*F2)*(F12*T1-T12*F1)\n",
    "gamma = math.sqrt(gamma_2)\n",
    "d1 = alpha - gamma\n",
    "d2 = alpha + gamma"
   ]
  },
  {
   "cell_type": "code",
   "execution_count": 39,
   "metadata": {},
   "outputs": [],
   "source": [
    "a11 = beta*F1 - T1*d1\n",
    "a12 = beta*F12 - T12*d2\n",
    "a21 = beta*F12 - T12*d1\n",
    "a22 = beta*F2 - T2*d2\n",
    "\n",
    "A_chap = np.array([a11, a12, a21, a22]).reshape(2,-1)"
   ]
  },
  {
   "cell_type": "code",
   "execution_count": 40,
   "metadata": {},
   "outputs": [],
   "source": [
    "x = np.vstack((i1,i2))"
   ]
  },
  {
   "cell_type": "code",
   "execution_count": 41,
   "metadata": {},
   "outputs": [],
   "source": [
    "W = np.linalg.inv(A_chap)\n",
    "s_chap_SOBI = np.matmul(W,x)"
   ]
  },
  {
   "cell_type": "code",
   "execution_count": 42,
   "metadata": {},
   "outputs": [],
   "source": [
    "s1 = np.fromfile('./Input_and_Reference_files/Ref_1.txt',dtype=np.float64)\n",
    "s2 = np.fromfile('./Input_and_Reference_files/Ref_2.txt',dtype=np.float64)"
   ]
  },
  {
   "cell_type": "code",
   "execution_count": 43,
   "metadata": {},
   "outputs": [],
   "source": [
    "s_matrix = np.vstack((s1,s2))"
   ]
  },
  {
   "cell_type": "code",
   "execution_count": 44,
   "metadata": {},
   "outputs": [],
   "source": [
    "prod1 = 1 - np.square(np.dot(s_matrix[0,:].T,s_chap_SOBI[0,:])/(np.linalg.norm(s_matrix[0,:],2)*np.linalg.norm(s_chap_SOBI[0,:],2)))\n",
    "prod2 = 1 - np.square(np.dot(s_matrix[1,:].T,s_chap_SOBI[1,:])/(np.linalg.norm(s_matrix[1,:],2)*np.linalg.norm(s_chap_SOBI[1,:],2)))\n",
    "EQMN1 = 10*math.log10(prod1.item())\n",
    "EQMN2 = 10*math.log10(prod2.item())"
   ]
  },
  {
   "cell_type": "code",
   "execution_count": 45,
   "metadata": {},
   "outputs": [
    {
     "name": "stdout",
     "output_type": "stream",
     "text": [
      "-76.63165257677974 db -76.63165293198534 db\n"
     ]
    }
   ],
   "source": [
    "print(EQMN1,'db',EQMN2,'db')"
   ]
  },
  {
   "cell_type": "markdown",
   "metadata": {},
   "source": [
    "Playing reconstructed signals:"
   ]
  },
  {
   "cell_type": "code",
   "execution_count": 51,
   "metadata": {},
   "outputs": [],
   "source": [
    "sounddevice.play(s_chap_SOBI[0,:], fs)"
   ]
  },
  {
   "cell_type": "code",
   "execution_count": 52,
   "metadata": {},
   "outputs": [],
   "source": [
    "sounddevice.play(s_chap_SOBI[1,:], fs)"
   ]
  }
 ],
 "metadata": {
  "kernelspec": {
   "display_name": "Python 3",
   "language": "python",
   "name": "python3"
  },
  "language_info": {
   "codemirror_mode": {
    "name": "ipython",
    "version": 3
   },
   "file_extension": ".py",
   "mimetype": "text/x-python",
   "name": "python",
   "nbconvert_exporter": "python",
   "pygments_lexer": "ipython3",
   "version": "3.7.5rc1"
  },
  "latex_envs": {
   "LaTeX_envs_menu_present": true,
   "autoclose": false,
   "autocomplete": true,
   "bibliofile": "biblio.bib",
   "cite_by": "apalike",
   "current_citInitial": 1,
   "eqLabelWithNumbers": true,
   "eqNumInitial": 1,
   "hotkeys": {
    "equation": "Ctrl-E",
    "itemize": "Ctrl-I"
   },
   "labels_anchors": false,
   "latex_user_defs": false,
   "report_style_numbering": false,
   "user_envs_cfg": false
  }
 },
 "nbformat": 4,
 "nbformat_minor": 2
}
